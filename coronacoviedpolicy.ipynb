{
  "nbformat": 4,
  "nbformat_minor": 0,
  "metadata": {
    "colab": {
      "name": "coronacoviedpolicy.ipynb",
      "provenance": [],
      "mount_file_id": "1o72jWIu3-izaW3N5MNyRRNufo5UlSDZm",
      "authorship_tag": "ABX9TyMqcOR7FuYwE3u6Ered3Z6x",
      "include_colab_link": true
    },
    "kernelspec": {
      "name": "python3",
      "display_name": "Python 3"
    },
    "language_info": {
      "name": "python"
    }
  },
  "cells": [
    {
      "cell_type": "markdown",
      "metadata": {
        "id": "view-in-github",
        "colab_type": "text"
      },
      "source": [
        "<a href=\"https://colab.research.google.com/github/OmdenaAI/omdena-canada-aigovernance/blob/main/coronacoviedpolicy.ipynb\" target=\"_parent\"><img src=\"https://colab.research.google.com/assets/colab-badge.svg\" alt=\"Open In Colab\"/></a>"
      ]
    },
    {
      "cell_type": "code",
      "metadata": {
        "id": "nmof15KNMkY1"
      },
      "source": [
        "import pandas as pd\n",
        "import matplotlib.pyplot as plt\n",
        "import seaborn as se\n",
        "import numpy as np\n",
        "file=pd.read_csv('/content/drive/MyDrive/coronanet_release_Canada.csv')\n",
        "import datetime as dt\n"
      ],
      "execution_count": 526,
      "outputs": []
    },
    {
      "cell_type": "markdown",
      "metadata": {
        "id": "xI27HkLIALd1"
      },
      "source": [
        "Cleaning Data"
      ]
    },
    {
      "cell_type": "markdown",
      "metadata": {
        "id": "yhKslsjhQ9sO"
      },
      "source": [
        "# First we read the data"
      ]
    },
    {
      "cell_type": "code",
      "metadata": {
        "id": "3yk32ZsDQvGy"
      },
      "source": [
        "#file.describe"
      ],
      "execution_count": 527,
      "outputs": []
    },
    {
      "cell_type": "code",
      "metadata": {
        "id": "B6mQtc-lR1ej"
      },
      "source": [
        "#file.head()\n"
      ],
      "execution_count": 528,
      "outputs": []
    },
    {
      "cell_type": "markdown",
      "metadata": {
        "id": "vChhtDB6TDjz"
      },
      "source": [
        "We have 40 features ,lets go one by one to differentiate between categorical and text"
      ]
    },
    {
      "cell_type": "markdown",
      "metadata": {
        "id": "nIG5aBpCCHer"
      },
      "source": [
        "We will add three columns showing the effect of policies to food availability ,those three columns indicate how the effect has been.\n",
        "the value so fare is 0 till we decided to fill it "
      ]
    },
    {
      "cell_type": "code",
      "metadata": {
        "id": "fSGfsHDp-gAf"
      },
      "source": [
        "file['international exchange']=0\n",
        "file['Farm financial stability']=0\n",
        "file['food_Transportation']=0"
      ],
      "execution_count": 529,
      "outputs": []
    },
    {
      "cell_type": "markdown",
      "metadata": {
        "id": "IysKhIJpFGqh"
      },
      "source": [
        "Since the tarrget country is Canda ,so no need for this column any more ,we can delete it .also delete 'target_region','target_province','target_city' becouse this columns full of null,and delete the link "
      ]
    },
    {
      "cell_type": "code",
      "metadata": {
        "id": "sNGh65w_8_Z0"
      },
      "source": [
        "file.drop(columns=file[['target_country','target_region','target_province','target_city']],inplace=True)"
      ],
      "execution_count": 530,
      "outputs": []
    },
    {
      "cell_type": "code",
      "metadata": {
        "id": "gYphkubwNTtH"
      },
      "source": [
        "file.drop(columns=file[['link',]],inplace=True)"
      ],
      "execution_count": 531,
      "outputs": []
    },
    {
      "cell_type": "code",
      "metadata": {
        "id": "UKuq7JUMXIpu"
      },
      "source": [
        "file.drop(columns=file[['ISO_A3','ISO_A2','ISO_L2','city','type_text','target_other','target_direction','travel_mechanism','update_type','update_level','country','date_updated','recorded_date']],inplace=True)\n"
      ],
      "execution_count": 532,
      "outputs": []
    },
    {
      "cell_type": "code",
      "metadata": {
        "colab": {
          "base_uri": "https://localhost:8080/",
          "height": 700
        },
        "id": "F6iqSFCMjVIF",
        "outputId": "ba553205-7eeb-40c2-dd48-fb73e6c02a92"
      },
      "source": [
        "#just clean the title\n",
        "file = file.rename(columns={x:x.replace('_', ' ')\n",
        "    for x in file.columns})\n",
        "#convert date time\n",
        "pd.to_datetime(file['date announced'])\n",
        "pd.to_datetime(file['date start'])\n",
        "pd.to_datetime(file['date end'])\n",
        "\n",
        "#extract only month since all study happend in 2020\n",
        "file['date announced'] = pd.to_datetime(file['date announced']).dt.month\n",
        "file['date start'] = pd.to_datetime(file['date start']).dt.month\n",
        "file['date end'] =pd.to_datetime(file['date end']).dt.month\n",
        "file['date end'] = file['date end'].index.astype(int)\n",
        "\n",
        "file.head(5)"
      ],
      "execution_count": 533,
      "outputs": [
        {
          "output_type": "execute_result",
          "data": {
            "text/html": [
              "<div>\n",
              "<style scoped>\n",
              "    .dataframe tbody tr th:only-of-type {\n",
              "        vertical-align: middle;\n",
              "    }\n",
              "\n",
              "    .dataframe tbody tr th {\n",
              "        vertical-align: top;\n",
              "    }\n",
              "\n",
              "    .dataframe thead th {\n",
              "        text-align: right;\n",
              "    }\n",
              "</style>\n",
              "<table border=\"1\" class=\"dataframe\">\n",
              "  <thead>\n",
              "    <tr style=\"text-align: right;\">\n",
              "      <th></th>\n",
              "      <th>record id</th>\n",
              "      <th>policy id</th>\n",
              "      <th>entry type</th>\n",
              "      <th>correct type</th>\n",
              "      <th>description</th>\n",
              "      <th>date announced</th>\n",
              "      <th>date start</th>\n",
              "      <th>date end</th>\n",
              "      <th>init country level</th>\n",
              "      <th>domestic policy</th>\n",
              "      <th>province</th>\n",
              "      <th>type</th>\n",
              "      <th>type sub cat</th>\n",
              "      <th>institution status</th>\n",
              "      <th>target geog level</th>\n",
              "      <th>target who what</th>\n",
              "      <th>compliance</th>\n",
              "      <th>enforcer</th>\n",
              "      <th>dist index high est</th>\n",
              "      <th>dist index med est</th>\n",
              "      <th>dist index low est</th>\n",
              "      <th>dist index country rank</th>\n",
              "      <th>international exchange</th>\n",
              "      <th>Farm financial stability</th>\n",
              "      <th>food Transportation</th>\n",
              "    </tr>\n",
              "  </thead>\n",
              "  <tbody>\n",
              "    <tr>\n",
              "      <th>0</th>\n",
              "      <td>R_1IFRA729KAc34j6NA</td>\n",
              "      <td>8210233</td>\n",
              "      <td>new_entry</td>\n",
              "      <td>original</td>\n",
              "      <td>Canada--Health Canada released a statement Mar...</td>\n",
              "      <td>3</td>\n",
              "      <td>3</td>\n",
              "      <td>0</td>\n",
              "      <td>National</td>\n",
              "      <td>1</td>\n",
              "      <td>NaN</td>\n",
              "      <td>Anti-Disinformation Measures</td>\n",
              "      <td>NaN</td>\n",
              "      <td>NaN</td>\n",
              "      <td>One or more countries, but not all countries</td>\n",
              "      <td>All Residents (Citizen Residents + Foreign Res...</td>\n",
              "      <td>Voluntary/Recommended but No Penalties</td>\n",
              "      <td>Ministry/Department of Health</td>\n",
              "      <td>59.667830</td>\n",
              "      <td>56.602044</td>\n",
              "      <td>53.559257</td>\n",
              "      <td>86.0</td>\n",
              "      <td>0</td>\n",
              "      <td>0</td>\n",
              "      <td>0</td>\n",
              "    </tr>\n",
              "    <tr>\n",
              "      <th>1</th>\n",
              "      <td>R_1LpM6iIK9Qt3n04NA</td>\n",
              "      <td>135652</td>\n",
              "      <td>new_entry</td>\n",
              "      <td>original</td>\n",
              "      <td>Canada, Health Canada released a statement Apr...</td>\n",
              "      <td>4</td>\n",
              "      <td>4</td>\n",
              "      <td>1</td>\n",
              "      <td>National</td>\n",
              "      <td>1</td>\n",
              "      <td>NaN</td>\n",
              "      <td>Anti-Disinformation Measures</td>\n",
              "      <td>NaN</td>\n",
              "      <td>NaN</td>\n",
              "      <td>One or more countries, but not all countries</td>\n",
              "      <td>All Residents (Citizen Residents + Foreign Res...</td>\n",
              "      <td>Voluntary/Recommended but No Penalties</td>\n",
              "      <td>Ministry/Department of Health</td>\n",
              "      <td>64.989414</td>\n",
              "      <td>62.311475</td>\n",
              "      <td>59.309292</td>\n",
              "      <td>36.0</td>\n",
              "      <td>0</td>\n",
              "      <td>0</td>\n",
              "      <td>0</td>\n",
              "    </tr>\n",
              "    <tr>\n",
              "      <th>2</th>\n",
              "      <td>R_zTscGXXMieVMbehDy</td>\n",
              "      <td>4556417Dy</td>\n",
              "      <td>update</td>\n",
              "      <td>original</td>\n",
              "      <td>Canada, NB, May 8 \"Effective Monday, March 16,...</td>\n",
              "      <td>5</td>\n",
              "      <td>3</td>\n",
              "      <td>2</td>\n",
              "      <td>Provincial</td>\n",
              "      <td>1</td>\n",
              "      <td>New Brunswick</td>\n",
              "      <td>Closure and Regulation of Schools</td>\n",
              "      <td>Preschool or childcare facilities (generally f...</td>\n",
              "      <td>Preschool or childcare facilities closed/locke...</td>\n",
              "      <td>NaN</td>\n",
              "      <td>All Residents (Citizen Residents + Foreign Res...</td>\n",
              "      <td>Mandatory (Unspecified/Implied)</td>\n",
              "      <td>Provincial/State Government</td>\n",
              "      <td>37.948284</td>\n",
              "      <td>34.127651</td>\n",
              "      <td>29.866326</td>\n",
              "      <td>90.0</td>\n",
              "      <td>0</td>\n",
              "      <td>0</td>\n",
              "      <td>0</td>\n",
              "    </tr>\n",
              "    <tr>\n",
              "      <th>3</th>\n",
              "      <td>R_zTscGXXMieVMbehEa</td>\n",
              "      <td>4556417Ea</td>\n",
              "      <td>update</td>\n",
              "      <td>original</td>\n",
              "      <td>Canada, NB, May 8 \"Effective Monday, March 16,...</td>\n",
              "      <td>5</td>\n",
              "      <td>3</td>\n",
              "      <td>3</td>\n",
              "      <td>Provincial</td>\n",
              "      <td>1</td>\n",
              "      <td>New Brunswick</td>\n",
              "      <td>Closure and Regulation of Schools</td>\n",
              "      <td>Primary Schools (generally for children ages 1...</td>\n",
              "      <td>Primary Schools closed/locked down</td>\n",
              "      <td>NaN</td>\n",
              "      <td>All Residents (Citizen Residents + Foreign Res...</td>\n",
              "      <td>Mandatory (Unspecified/Implied)</td>\n",
              "      <td>Provincial/State Government</td>\n",
              "      <td>37.948284</td>\n",
              "      <td>34.127651</td>\n",
              "      <td>29.866326</td>\n",
              "      <td>90.0</td>\n",
              "      <td>0</td>\n",
              "      <td>0</td>\n",
              "      <td>0</td>\n",
              "    </tr>\n",
              "    <tr>\n",
              "      <th>4</th>\n",
              "      <td>R_zTscGXXMieVMbehFj</td>\n",
              "      <td>4556417Fj</td>\n",
              "      <td>update</td>\n",
              "      <td>original</td>\n",
              "      <td>Canada, NB, May 8 \"Effective Monday, March 16,...</td>\n",
              "      <td>5</td>\n",
              "      <td>3</td>\n",
              "      <td>4</td>\n",
              "      <td>Provincial</td>\n",
              "      <td>1</td>\n",
              "      <td>New Brunswick</td>\n",
              "      <td>Closure and Regulation of Schools</td>\n",
              "      <td>Secondary Schools (generally for children ages...</td>\n",
              "      <td>Secondary Schools closed/locked down</td>\n",
              "      <td>NaN</td>\n",
              "      <td>All Residents (Citizen Residents + Foreign Res...</td>\n",
              "      <td>Mandatory (Unspecified/Implied)</td>\n",
              "      <td>Provincial/State Government</td>\n",
              "      <td>37.948284</td>\n",
              "      <td>34.127651</td>\n",
              "      <td>29.866326</td>\n",
              "      <td>90.0</td>\n",
              "      <td>0</td>\n",
              "      <td>0</td>\n",
              "      <td>0</td>\n",
              "    </tr>\n",
              "  </tbody>\n",
              "</table>\n",
              "</div>"
            ],
            "text/plain": [
              "             record id  ... food Transportation\n",
              "0  R_1IFRA729KAc34j6NA  ...                   0\n",
              "1  R_1LpM6iIK9Qt3n04NA  ...                   0\n",
              "2  R_zTscGXXMieVMbehDy  ...                   0\n",
              "3  R_zTscGXXMieVMbehEa  ...                   0\n",
              "4  R_zTscGXXMieVMbehFj  ...                   0\n",
              "\n",
              "[5 rows x 25 columns]"
            ]
          },
          "metadata": {
            "tags": []
          },
          "execution_count": 533
        }
      ]
    },
    {
      "cell_type": "code",
      "metadata": {
        "id": "JkgBSv1yWkqg"
      },
      "source": [
        " #print(file.describe().to_string(line_width=60))"
      ],
      "execution_count": 534,
      "outputs": []
    },
    {
      "cell_type": "markdown",
      "metadata": {
        "id": "muyar870OauN"
      },
      "source": [
        "now lets play with each column to figure out the values expected ,First fill all nan to o,to not effect the mean .\n"
      ]
    },
    {
      "cell_type": "code",
      "metadata": {
        "colab": {
          "base_uri": "https://localhost:8080/"
        },
        "id": "F5TXXTwPOZUj",
        "outputId": "05d8b3b5-1e97-48b3-b8b9-b31a60158819"
      },
      "source": [
        "file['entry type'].value_counts()\n",
        "#file.target_direction.isnull().value_counts()"
      ],
      "execution_count": 535,
      "outputs": [
        {
          "output_type": "execute_result",
          "data": {
            "text/plain": [
              "new_entry    601\n",
              "update       589\n",
              "Name: entry type, dtype: int64"
            ]
          },
          "metadata": {
            "tags": []
          },
          "execution_count": 535
        }
      ]
    },
    {
      "cell_type": "markdown",
      "metadata": {
        "id": "eS-Z-1fFlcb-"
      },
      "source": [
        "The above tell us the there is 601 policies out of 1190 entered newely and 589 updated from previous one."
      ]
    },
    {
      "cell_type": "code",
      "metadata": {
        "id": "Hum31sH3g9Lw"
      },
      "source": [
        "#file.fillna(0)"
      ],
      "execution_count": 536,
      "outputs": []
    },
    {
      "cell_type": "markdown",
      "metadata": {
        "id": "pJTkzeXYPDSY"
      },
      "source": [
        "**The column type of correction is perfect column so far ,which has 2 categories org or corr .and we can introduce that the policies has been corrected its effects is mejor than orginal ,so this reveal we can go in deep in 185 policy instead of 1005**"
      ]
    },
    {
      "cell_type": "code",
      "metadata": {
        "colab": {
          "base_uri": "https://localhost:8080/"
        },
        "id": "P7WqAyLdQFyN",
        "outputId": "7cb31af2-986a-45d2-f73f-b93c85c2cd77"
      },
      "source": [
        "file['init country level'].value_counts()"
      ],
      "execution_count": 537,
      "outputs": [
        {
          "output_type": "execute_result",
          "data": {
            "text/plain": [
              "Provincial    996\n",
              "National      181\n",
              "Municipal       6\n",
              "Name: init country level, dtype: int64"
            ]
          },
          "metadata": {
            "tags": []
          },
          "execution_count": 537
        }
      ]
    },
    {
      "cell_type": "markdown",
      "metadata": {
        "id": "X15S2afv1Xdc"
      },
      "source": [
        " i decide if the policy be in level of national will effect 3 of them ,but in case of  provinical will just effect farm stabilty and food transportion ,and the effect of municipal will effect only in food transportaion .thats what i conclude and i want to discuss about to continue like this ,based on anlysis fill the table or there is another resourcing can i take to fill the table to start the process"
      ]
    },
    {
      "cell_type": "code",
      "metadata": {
        "id": "cYP8sjCP1zI2"
      },
      "source": [
        "inde=0\n",
        "for x in file['init country level']:\n",
        "  inde +=1\n",
        "  \n",
        "  if x=='Provincial':\n",
        "    file.at[inde,'international exchange']=0  \n",
        "    file.at[inde,'Farm financial stability']=1 \n",
        "    file.at[inde,'food Transportation']=1\n",
        "  elif x=='National':\n",
        "    file.at[inde,'international exchange']=1 \n",
        "    file.at[inde,'Farm financial stability']=1 \n",
        "    file.at[inde,'food Transportation']=1\n",
        "  elif x=='Municipal':\n",
        "    file.at[inde,'international exchange']=0 \n",
        "    file.at[inde,'Farm financial stability']=1\n",
        "    file.at[inde,'food Transportation']=0\n",
        "  \n",
        "\n"
      ],
      "execution_count": 538,
      "outputs": []
    },
    {
      "cell_type": "code",
      "metadata": {
        "colab": {
          "base_uri": "https://localhost:8080/",
          "height": 700
        },
        "id": "9Jx4d2fM-w2H",
        "outputId": "083da014-9106-41cd-85b0-f6d3e7c1611a"
      },
      "source": [
        "file.head()"
      ],
      "execution_count": 539,
      "outputs": [
        {
          "output_type": "execute_result",
          "data": {
            "text/html": [
              "<div>\n",
              "<style scoped>\n",
              "    .dataframe tbody tr th:only-of-type {\n",
              "        vertical-align: middle;\n",
              "    }\n",
              "\n",
              "    .dataframe tbody tr th {\n",
              "        vertical-align: top;\n",
              "    }\n",
              "\n",
              "    .dataframe thead th {\n",
              "        text-align: right;\n",
              "    }\n",
              "</style>\n",
              "<table border=\"1\" class=\"dataframe\">\n",
              "  <thead>\n",
              "    <tr style=\"text-align: right;\">\n",
              "      <th></th>\n",
              "      <th>record id</th>\n",
              "      <th>policy id</th>\n",
              "      <th>entry type</th>\n",
              "      <th>correct type</th>\n",
              "      <th>description</th>\n",
              "      <th>date announced</th>\n",
              "      <th>date start</th>\n",
              "      <th>date end</th>\n",
              "      <th>init country level</th>\n",
              "      <th>domestic policy</th>\n",
              "      <th>province</th>\n",
              "      <th>type</th>\n",
              "      <th>type sub cat</th>\n",
              "      <th>institution status</th>\n",
              "      <th>target geog level</th>\n",
              "      <th>target who what</th>\n",
              "      <th>compliance</th>\n",
              "      <th>enforcer</th>\n",
              "      <th>dist index high est</th>\n",
              "      <th>dist index med est</th>\n",
              "      <th>dist index low est</th>\n",
              "      <th>dist index country rank</th>\n",
              "      <th>international exchange</th>\n",
              "      <th>Farm financial stability</th>\n",
              "      <th>food Transportation</th>\n",
              "    </tr>\n",
              "  </thead>\n",
              "  <tbody>\n",
              "    <tr>\n",
              "      <th>0</th>\n",
              "      <td>R_1IFRA729KAc34j6NA</td>\n",
              "      <td>8210233</td>\n",
              "      <td>new_entry</td>\n",
              "      <td>original</td>\n",
              "      <td>Canada--Health Canada released a statement Mar...</td>\n",
              "      <td>3.0</td>\n",
              "      <td>3.0</td>\n",
              "      <td>0.0</td>\n",
              "      <td>National</td>\n",
              "      <td>1.0</td>\n",
              "      <td>NaN</td>\n",
              "      <td>Anti-Disinformation Measures</td>\n",
              "      <td>NaN</td>\n",
              "      <td>NaN</td>\n",
              "      <td>One or more countries, but not all countries</td>\n",
              "      <td>All Residents (Citizen Residents + Foreign Res...</td>\n",
              "      <td>Voluntary/Recommended but No Penalties</td>\n",
              "      <td>Ministry/Department of Health</td>\n",
              "      <td>59.667830</td>\n",
              "      <td>56.602044</td>\n",
              "      <td>53.559257</td>\n",
              "      <td>86.0</td>\n",
              "      <td>0.0</td>\n",
              "      <td>0.0</td>\n",
              "      <td>0.0</td>\n",
              "    </tr>\n",
              "    <tr>\n",
              "      <th>1</th>\n",
              "      <td>R_1LpM6iIK9Qt3n04NA</td>\n",
              "      <td>135652</td>\n",
              "      <td>new_entry</td>\n",
              "      <td>original</td>\n",
              "      <td>Canada, Health Canada released a statement Apr...</td>\n",
              "      <td>4.0</td>\n",
              "      <td>4.0</td>\n",
              "      <td>1.0</td>\n",
              "      <td>National</td>\n",
              "      <td>1.0</td>\n",
              "      <td>NaN</td>\n",
              "      <td>Anti-Disinformation Measures</td>\n",
              "      <td>NaN</td>\n",
              "      <td>NaN</td>\n",
              "      <td>One or more countries, but not all countries</td>\n",
              "      <td>All Residents (Citizen Residents + Foreign Res...</td>\n",
              "      <td>Voluntary/Recommended but No Penalties</td>\n",
              "      <td>Ministry/Department of Health</td>\n",
              "      <td>64.989414</td>\n",
              "      <td>62.311475</td>\n",
              "      <td>59.309292</td>\n",
              "      <td>36.0</td>\n",
              "      <td>1.0</td>\n",
              "      <td>1.0</td>\n",
              "      <td>1.0</td>\n",
              "    </tr>\n",
              "    <tr>\n",
              "      <th>2</th>\n",
              "      <td>R_zTscGXXMieVMbehDy</td>\n",
              "      <td>4556417Dy</td>\n",
              "      <td>update</td>\n",
              "      <td>original</td>\n",
              "      <td>Canada, NB, May 8 \"Effective Monday, March 16,...</td>\n",
              "      <td>5.0</td>\n",
              "      <td>3.0</td>\n",
              "      <td>2.0</td>\n",
              "      <td>Provincial</td>\n",
              "      <td>1.0</td>\n",
              "      <td>New Brunswick</td>\n",
              "      <td>Closure and Regulation of Schools</td>\n",
              "      <td>Preschool or childcare facilities (generally f...</td>\n",
              "      <td>Preschool or childcare facilities closed/locke...</td>\n",
              "      <td>NaN</td>\n",
              "      <td>All Residents (Citizen Residents + Foreign Res...</td>\n",
              "      <td>Mandatory (Unspecified/Implied)</td>\n",
              "      <td>Provincial/State Government</td>\n",
              "      <td>37.948284</td>\n",
              "      <td>34.127651</td>\n",
              "      <td>29.866326</td>\n",
              "      <td>90.0</td>\n",
              "      <td>1.0</td>\n",
              "      <td>1.0</td>\n",
              "      <td>1.0</td>\n",
              "    </tr>\n",
              "    <tr>\n",
              "      <th>3</th>\n",
              "      <td>R_zTscGXXMieVMbehEa</td>\n",
              "      <td>4556417Ea</td>\n",
              "      <td>update</td>\n",
              "      <td>original</td>\n",
              "      <td>Canada, NB, May 8 \"Effective Monday, March 16,...</td>\n",
              "      <td>5.0</td>\n",
              "      <td>3.0</td>\n",
              "      <td>3.0</td>\n",
              "      <td>Provincial</td>\n",
              "      <td>1.0</td>\n",
              "      <td>New Brunswick</td>\n",
              "      <td>Closure and Regulation of Schools</td>\n",
              "      <td>Primary Schools (generally for children ages 1...</td>\n",
              "      <td>Primary Schools closed/locked down</td>\n",
              "      <td>NaN</td>\n",
              "      <td>All Residents (Citizen Residents + Foreign Res...</td>\n",
              "      <td>Mandatory (Unspecified/Implied)</td>\n",
              "      <td>Provincial/State Government</td>\n",
              "      <td>37.948284</td>\n",
              "      <td>34.127651</td>\n",
              "      <td>29.866326</td>\n",
              "      <td>90.0</td>\n",
              "      <td>0.0</td>\n",
              "      <td>1.0</td>\n",
              "      <td>1.0</td>\n",
              "    </tr>\n",
              "    <tr>\n",
              "      <th>4</th>\n",
              "      <td>R_zTscGXXMieVMbehFj</td>\n",
              "      <td>4556417Fj</td>\n",
              "      <td>update</td>\n",
              "      <td>original</td>\n",
              "      <td>Canada, NB, May 8 \"Effective Monday, March 16,...</td>\n",
              "      <td>5.0</td>\n",
              "      <td>3.0</td>\n",
              "      <td>4.0</td>\n",
              "      <td>Provincial</td>\n",
              "      <td>1.0</td>\n",
              "      <td>New Brunswick</td>\n",
              "      <td>Closure and Regulation of Schools</td>\n",
              "      <td>Secondary Schools (generally for children ages...</td>\n",
              "      <td>Secondary Schools closed/locked down</td>\n",
              "      <td>NaN</td>\n",
              "      <td>All Residents (Citizen Residents + Foreign Res...</td>\n",
              "      <td>Mandatory (Unspecified/Implied)</td>\n",
              "      <td>Provincial/State Government</td>\n",
              "      <td>37.948284</td>\n",
              "      <td>34.127651</td>\n",
              "      <td>29.866326</td>\n",
              "      <td>90.0</td>\n",
              "      <td>0.0</td>\n",
              "      <td>1.0</td>\n",
              "      <td>1.0</td>\n",
              "    </tr>\n",
              "  </tbody>\n",
              "</table>\n",
              "</div>"
            ],
            "text/plain": [
              "             record id  ... food Transportation\n",
              "0  R_1IFRA729KAc34j6NA  ...                 0.0\n",
              "1  R_1LpM6iIK9Qt3n04NA  ...                 1.0\n",
              "2  R_zTscGXXMieVMbehDy  ...                 1.0\n",
              "3  R_zTscGXXMieVMbehEa  ...                 1.0\n",
              "4  R_zTscGXXMieVMbehFj  ...                 1.0\n",
              "\n",
              "[5 rows x 25 columns]"
            ]
          },
          "metadata": {
            "tags": []
          },
          "execution_count": 539
        }
      ]
    },
    {
      "cell_type": "markdown",
      "metadata": {
        "id": "P8F1wJ8e_7Uw"
      },
      "source": [
        "Its time to convert categorical data to nomircal "
      ]
    }
  ]
}